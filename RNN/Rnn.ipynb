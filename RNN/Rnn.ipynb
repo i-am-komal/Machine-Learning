{
 "cells": [
  {
   "cell_type": "code",
   "execution_count": 100,
   "id": "30ef3c3f-9b43-4c01-8021-8b813e4d1139",
   "metadata": {},
   "outputs": [],
   "source": [
    "import pandas as pd\n",
    "import numpy as np\n",
    "import matplotlib.pyplot as plt\n",
    "import seaborn as sns\n",
    "import plotly.express as px\n",
    "import  warnings\n",
    "warnings.filterwarnings(action='ignore')\n"
   ]
  },
  {
   "cell_type": "code",
   "execution_count": 101,
   "id": "302ba660-5ad4-47d3-ab5d-eb08432f2455",
   "metadata": {},
   "outputs": [
    {
     "data": {
      "text/html": [
       "<div>\n",
       "<style scoped>\n",
       "    .dataframe tbody tr th:only-of-type {\n",
       "        vertical-align: middle;\n",
       "    }\n",
       "\n",
       "    .dataframe tbody tr th {\n",
       "        vertical-align: top;\n",
       "    }\n",
       "\n",
       "    .dataframe thead th {\n",
       "        text-align: right;\n",
       "    }\n",
       "</style>\n",
       "<table border=\"1\" class=\"dataframe\">\n",
       "  <thead>\n",
       "    <tr style=\"text-align: right;\">\n",
       "      <th></th>\n",
       "      <th>Date</th>\n",
       "      <th>Open</th>\n",
       "      <th>High</th>\n",
       "      <th>Low</th>\n",
       "      <th>Close</th>\n",
       "      <th>Volume</th>\n",
       "    </tr>\n",
       "  </thead>\n",
       "  <tbody>\n",
       "    <tr>\n",
       "      <th>0</th>\n",
       "      <td>1/3/2012</td>\n",
       "      <td>325.25</td>\n",
       "      <td>332.83</td>\n",
       "      <td>324.97</td>\n",
       "      <td>663.59</td>\n",
       "      <td>7,380,500</td>\n",
       "    </tr>\n",
       "    <tr>\n",
       "      <th>1</th>\n",
       "      <td>1/4/2012</td>\n",
       "      <td>331.27</td>\n",
       "      <td>333.87</td>\n",
       "      <td>329.08</td>\n",
       "      <td>666.45</td>\n",
       "      <td>5,749,400</td>\n",
       "    </tr>\n",
       "    <tr>\n",
       "      <th>2</th>\n",
       "      <td>1/5/2012</td>\n",
       "      <td>329.83</td>\n",
       "      <td>330.75</td>\n",
       "      <td>326.89</td>\n",
       "      <td>657.21</td>\n",
       "      <td>6,590,300</td>\n",
       "    </tr>\n",
       "    <tr>\n",
       "      <th>3</th>\n",
       "      <td>1/6/2012</td>\n",
       "      <td>328.34</td>\n",
       "      <td>328.77</td>\n",
       "      <td>323.68</td>\n",
       "      <td>648.24</td>\n",
       "      <td>5,405,900</td>\n",
       "    </tr>\n",
       "    <tr>\n",
       "      <th>4</th>\n",
       "      <td>1/9/2012</td>\n",
       "      <td>322.04</td>\n",
       "      <td>322.29</td>\n",
       "      <td>309.46</td>\n",
       "      <td>620.76</td>\n",
       "      <td>11,688,800</td>\n",
       "    </tr>\n",
       "    <tr>\n",
       "      <th>...</th>\n",
       "      <td>...</td>\n",
       "      <td>...</td>\n",
       "      <td>...</td>\n",
       "      <td>...</td>\n",
       "      <td>...</td>\n",
       "      <td>...</td>\n",
       "    </tr>\n",
       "    <tr>\n",
       "      <th>1253</th>\n",
       "      <td>12/23/2016</td>\n",
       "      <td>790.90</td>\n",
       "      <td>792.74</td>\n",
       "      <td>787.28</td>\n",
       "      <td>789.91</td>\n",
       "      <td>623,400</td>\n",
       "    </tr>\n",
       "    <tr>\n",
       "      <th>1254</th>\n",
       "      <td>12/27/2016</td>\n",
       "      <td>790.68</td>\n",
       "      <td>797.86</td>\n",
       "      <td>787.66</td>\n",
       "      <td>791.55</td>\n",
       "      <td>789,100</td>\n",
       "    </tr>\n",
       "    <tr>\n",
       "      <th>1255</th>\n",
       "      <td>12/28/2016</td>\n",
       "      <td>793.70</td>\n",
       "      <td>794.23</td>\n",
       "      <td>783.20</td>\n",
       "      <td>785.05</td>\n",
       "      <td>1,153,800</td>\n",
       "    </tr>\n",
       "    <tr>\n",
       "      <th>1256</th>\n",
       "      <td>12/29/2016</td>\n",
       "      <td>783.33</td>\n",
       "      <td>785.93</td>\n",
       "      <td>778.92</td>\n",
       "      <td>782.79</td>\n",
       "      <td>744,300</td>\n",
       "    </tr>\n",
       "    <tr>\n",
       "      <th>1257</th>\n",
       "      <td>12/30/2016</td>\n",
       "      <td>782.75</td>\n",
       "      <td>782.78</td>\n",
       "      <td>770.41</td>\n",
       "      <td>771.82</td>\n",
       "      <td>1,770,000</td>\n",
       "    </tr>\n",
       "  </tbody>\n",
       "</table>\n",
       "<p>1258 rows × 6 columns</p>\n",
       "</div>"
      ],
      "text/plain": [
       "            Date    Open    High     Low   Close      Volume\n",
       "0       1/3/2012  325.25  332.83  324.97  663.59   7,380,500\n",
       "1       1/4/2012  331.27  333.87  329.08  666.45   5,749,400\n",
       "2       1/5/2012  329.83  330.75  326.89  657.21   6,590,300\n",
       "3       1/6/2012  328.34  328.77  323.68  648.24   5,405,900\n",
       "4       1/9/2012  322.04  322.29  309.46  620.76  11,688,800\n",
       "...          ...     ...     ...     ...     ...         ...\n",
       "1253  12/23/2016  790.90  792.74  787.28  789.91     623,400\n",
       "1254  12/27/2016  790.68  797.86  787.66  791.55     789,100\n",
       "1255  12/28/2016  793.70  794.23  783.20  785.05   1,153,800\n",
       "1256  12/29/2016  783.33  785.93  778.92  782.79     744,300\n",
       "1257  12/30/2016  782.75  782.78  770.41  771.82   1,770,000\n",
       "\n",
       "[1258 rows x 6 columns]"
      ]
     },
     "execution_count": 101,
     "metadata": {},
     "output_type": "execute_result"
    }
   ],
   "source": [
    "df=pd.read_csv('Google_Stock_Price_Train.csv')\n",
    "df"
   ]
  },
  {
   "cell_type": "code",
   "execution_count": 102,
   "id": "65e08063-e65f-4914-ae06-cc2a45266595",
   "metadata": {},
   "outputs": [
    {
     "data": {
      "text/html": [
       "<div>\n",
       "<style scoped>\n",
       "    .dataframe tbody tr th:only-of-type {\n",
       "        vertical-align: middle;\n",
       "    }\n",
       "\n",
       "    .dataframe tbody tr th {\n",
       "        vertical-align: top;\n",
       "    }\n",
       "\n",
       "    .dataframe thead th {\n",
       "        text-align: right;\n",
       "    }\n",
       "</style>\n",
       "<table border=\"1\" class=\"dataframe\">\n",
       "  <thead>\n",
       "    <tr style=\"text-align: right;\">\n",
       "      <th></th>\n",
       "      <th>Date</th>\n",
       "      <th>Open</th>\n",
       "      <th>High</th>\n",
       "      <th>Low</th>\n",
       "      <th>Close</th>\n",
       "      <th>Volume</th>\n",
       "    </tr>\n",
       "  </thead>\n",
       "  <tbody>\n",
       "    <tr>\n",
       "      <th>0</th>\n",
       "      <td>1/3/2012</td>\n",
       "      <td>325.25</td>\n",
       "      <td>332.83</td>\n",
       "      <td>324.97</td>\n",
       "      <td>663.59</td>\n",
       "      <td>7,380,500</td>\n",
       "    </tr>\n",
       "    <tr>\n",
       "      <th>1</th>\n",
       "      <td>1/4/2012</td>\n",
       "      <td>331.27</td>\n",
       "      <td>333.87</td>\n",
       "      <td>329.08</td>\n",
       "      <td>666.45</td>\n",
       "      <td>5,749,400</td>\n",
       "    </tr>\n",
       "    <tr>\n",
       "      <th>2</th>\n",
       "      <td>1/5/2012</td>\n",
       "      <td>329.83</td>\n",
       "      <td>330.75</td>\n",
       "      <td>326.89</td>\n",
       "      <td>657.21</td>\n",
       "      <td>6,590,300</td>\n",
       "    </tr>\n",
       "    <tr>\n",
       "      <th>3</th>\n",
       "      <td>1/6/2012</td>\n",
       "      <td>328.34</td>\n",
       "      <td>328.77</td>\n",
       "      <td>323.68</td>\n",
       "      <td>648.24</td>\n",
       "      <td>5,405,900</td>\n",
       "    </tr>\n",
       "    <tr>\n",
       "      <th>4</th>\n",
       "      <td>1/9/2012</td>\n",
       "      <td>322.04</td>\n",
       "      <td>322.29</td>\n",
       "      <td>309.46</td>\n",
       "      <td>620.76</td>\n",
       "      <td>11,688,800</td>\n",
       "    </tr>\n",
       "  </tbody>\n",
       "</table>\n",
       "</div>"
      ],
      "text/plain": [
       "       Date    Open    High     Low   Close      Volume\n",
       "0  1/3/2012  325.25  332.83  324.97  663.59   7,380,500\n",
       "1  1/4/2012  331.27  333.87  329.08  666.45   5,749,400\n",
       "2  1/5/2012  329.83  330.75  326.89  657.21   6,590,300\n",
       "3  1/6/2012  328.34  328.77  323.68  648.24   5,405,900\n",
       "4  1/9/2012  322.04  322.29  309.46  620.76  11,688,800"
      ]
     },
     "execution_count": 102,
     "metadata": {},
     "output_type": "execute_result"
    }
   ],
   "source": [
    "df.head()"
   ]
  },
  {
   "cell_type": "code",
   "execution_count": 103,
   "id": "d900bb31-6fb6-41c4-8209-5de16bbf13f3",
   "metadata": {},
   "outputs": [
    {
     "data": {
      "text/plain": [
       "(1258, 6)"
      ]
     },
     "execution_count": 103,
     "metadata": {},
     "output_type": "execute_result"
    }
   ],
   "source": [
    "df.shape"
   ]
  },
  {
   "cell_type": "code",
   "execution_count": 104,
   "id": "78e261f0-d1c3-4731-bd86-84437639f4a3",
   "metadata": {},
   "outputs": [
    {
     "data": {
      "text/plain": [
       "Date      0\n",
       "Open      0\n",
       "High      0\n",
       "Low       0\n",
       "Close     0\n",
       "Volume    0\n",
       "dtype: int64"
      ]
     },
     "execution_count": 104,
     "metadata": {},
     "output_type": "execute_result"
    }
   ],
   "source": [
    "df.isnull().sum()"
   ]
  },
  {
   "cell_type": "code",
   "execution_count": 88,
   "id": "c26b6d7b-c95e-4310-bc2c-01cecaf2e977",
   "metadata": {},
   "outputs": [
    {
     "data": {
      "image/png": "[encoded data removed]",
      "text/plain": [
       "<Figure size 720x504 with 1 Axes>"
      ]
     },
     "metadata": {
      "needs_background": "light"
     },
     "output_type": "display_data"
    }
   ],
   "source": [
    "plt.figure(figsize=(10,7))\n",
    "_=sns.lineplot(x='Date',y='Open',data=df)"
   ]
  },
  {
   "cell_type": "code",
   "execution_count": 105,
   "id": "7c97a555-c386-441e-97cc-4bcd9f147926",
   "metadata": {},
   "outputs": [],
   "source": [
    "training_set=df.iloc[:,1:2].values"
   ]
  },
  {
   "cell_type": "code",
   "execution_count": 106,
   "id": "af3a61bd-bfc2-4d15-9a62-3f16ea408555",
   "metadata": {},
   "outputs": [
    {
     "data": {
      "text/plain": [
       "array([[325.25],\n",
       "       [331.27],\n",
       "       [329.83],\n",
       "       ...,\n",
       "       [793.7 ],\n",
       "       [783.33],\n",
       "       [782.75]])"
      ]
     },
     "execution_count": 106,
     "metadata": {},
     "output_type": "execute_result"
    }
   ],
   "source": [
    "training_set"
   ]
  },
  {
   "cell_type": "markdown",
   "id": "696f233d-66bf-4c4d-a041-a913eb03ced4",
   "metadata": {},
   "source": [
    "# Feature Scaling"
   ]
  },
  {
   "cell_type": "code",
   "execution_count": 107,
   "id": "1438f835-068b-43ca-b889-089dec9daeaf",
   "metadata": {},
   "outputs": [],
   "source": [
    "from sklearn.preprocessing import MinMaxScaler\n",
    "sc=MinMaxScaler()\n",
    "training_set_scaled=sc.fit_transform(training_set)"
   ]
  },
  {
   "cell_type": "code",
   "execution_count": 108,
   "id": "b63ba039-52ce-4c8e-b841-36a9bf1b614a",
   "metadata": {},
   "outputs": [
    {
     "data": {
      "text/plain": [
       "array([[0.08581368],\n",
       "       [0.09701243],\n",
       "       [0.09433366],\n",
       "       ...,\n",
       "       [0.95725128],\n",
       "       [0.93796041],\n",
       "       [0.93688146]])"
      ]
     },
     "execution_count": 108,
     "metadata": {},
     "output_type": "execute_result"
    }
   ],
   "source": [
    "training_set_scaled"
   ]
  },
  {
   "cell_type": "markdown",
   "id": "91ed516c-c467-4988-ac7f-93216aad102b",
   "metadata": {},
   "source": [
    "# Creating a Data Structure with 60 timestamp and 1 output"
   ]
  },
  {
   "cell_type": "code",
   "execution_count": 109,
   "id": "0f661467-b83c-4174-8f75-eb143d31a937",
   "metadata": {},
   "outputs": [],
   "source": [
    "x_train=[]\n",
    "y_train=[]\n",
    "for i in range(60,1258):\n",
    "    x_train.append(training_set_scaled[i-60:i,0])\n",
    "    y_train.append(training_set_scaled[i,0])\n",
    "x_train,y_train=np.array(x_train),np.array(y_train)"
   ]
  },
  {
   "cell_type": "code",
   "execution_count": 110,
   "id": "dc1a64c4-16fb-4194-b7ae-c9df1d898ac4",
   "metadata": {},
   "outputs": [
    {
     "data": {
      "text/plain": [
       "(1198, 60)"
      ]
     },
     "execution_count": 110,
     "metadata": {},
     "output_type": "execute_result"
    }
   ],
   "source": [
    "x_train.shape"
   ]
  },
  {
   "cell_type": "code",
   "execution_count": 111,
   "id": "346b013d-99d4-4cce-adc1-5f2601eaaee8",
   "metadata": {},
   "outputs": [
    {
     "name": "stdout",
     "output_type": "stream",
     "text": [
      "[[0.08581368 0.09701243 0.09433366 ... 0.07846566 0.08034452 0.08497656]\n",
      " [0.09701243 0.09433366 0.09156187 ... 0.08034452 0.08497656 0.08627874]\n",
      " [0.09433366 0.09156187 0.07984225 ... 0.08497656 0.08627874 0.08471612]\n",
      " ...\n",
      " [0.92106928 0.92438053 0.93048218 ... 0.95475854 0.95204256 0.95163331]\n",
      " [0.92438053 0.93048218 0.9299055  ... 0.95204256 0.95163331 0.95725128]\n",
      " [0.93048218 0.9299055  0.93113327 ... 0.95163331 0.95725128 0.93796041]]\n"
     ]
    }
   ],
   "source": [
    "print(x_train)"
   ]
  },
  {
   "cell_type": "markdown",
   "id": "bafdd094-5df0-493c-bbbb-eb32b4e3b9e4",
   "metadata": {},
   "source": [
    "# Reshape"
   ]
  },
  {
   "cell_type": "code",
   "execution_count": 112,
   "id": "87cedf2c-c2e8-48d6-8737-f700dc1941fd",
   "metadata": {},
   "outputs": [],
   "source": [
    "x_train=np.reshape(x_train,(x_train.shape[0],x_train.shape[1],1))"
   ]
  },
  {
   "cell_type": "code",
   "execution_count": 113,
   "id": "b0da3eaa-7a78-4b0f-a6bf-9e6115513765",
   "metadata": {},
   "outputs": [
    {
     "data": {
      "text/plain": [
       "(1198, 60, 1)"
      ]
     },
     "execution_count": 113,
     "metadata": {},
     "output_type": "execute_result"
    }
   ],
   "source": [
    "x_train.shape"
   ]
  },
  {
   "cell_type": "markdown",
   "id": "3ab8add7-d2b9-4c11-88aa-8ced2dbf0555",
   "metadata": {},
   "source": [
    "# RNN Model Building"
   ]
  },
  {
   "cell_type": "code",
   "execution_count": 114,
   "id": "cdb7d4d2-bae7-4dbe-8d9e-5579a64f7566",
   "metadata": {},
   "outputs": [],
   "source": [
    "import keras\n",
    "from keras.models import Sequential\n",
    "from keras.layers import Dense,LSTM,Dropout"
   ]
  },
  {
   "cell_type": "markdown",
   "id": "99e83336-4839-4d6a-a598-c315373f20e4",
   "metadata": {},
   "source": [
    "# Adding first layer "
   ]
  },
  {
   "cell_type": "code",
   "execution_count": 115,
   "id": "aeeee96c-c546-40b1-bd15-a94d2b5551b5",
   "metadata": {},
   "outputs": [],
   "source": [
    "rnn_reg=Sequential()"
   ]
  },
  {
   "cell_type": "code",
   "execution_count": 116,
   "id": "80768551-9520-4685-a1ea-9afceb1998c3",
   "metadata": {},
   "outputs": [],
   "source": [
    "rnn_reg.add(LSTM(units=50,return_sequences=True,input_shape=(x_train.shape[1],1)))  \n",
    "#i/p dimension=i/p shape here"
   ]
  },
  {
   "cell_type": "code",
   "execution_count": 117,
   "id": "f658be14-2bd3-4f0b-a6a5-99b7d9a3f064",
   "metadata": {},
   "outputs": [],
   "source": [
    "rnn_reg.add(Dropout(0.2))"
   ]
  },
  {
   "cell_type": "markdown",
   "id": "ee9dbe16-bd04-462a-b848-3e99c3470b4f",
   "metadata": {},
   "source": [
    "# Adding Second Layer"
   ]
  },
  {
   "cell_type": "code",
   "execution_count": 118,
   "id": "a9ac4d22-5555-4071-bc0d-bfef3fb63f94",
   "metadata": {},
   "outputs": [],
   "source": [
    "rnn_reg.add(LSTM(units=50,return_sequences=True))\n",
    "rnn_reg.add(Dropout(0.2))\n",
    "# return_sequences=True means want to add one more layer"
   ]
  },
  {
   "cell_type": "markdown",
   "id": "1505a7cc-0b93-4143-b2c5-f48be583ae5d",
   "metadata": {},
   "source": [
    "# Adding third layer"
   ]
  },
  {
   "cell_type": "code",
   "execution_count": 119,
   "id": "da61eb2b-1592-4f28-ae5a-4d1584b8c2a6",
   "metadata": {},
   "outputs": [],
   "source": [
    "rnn_reg.add(LSTM(units=50,return_sequences=True))\n",
    "rnn_reg.add(Dropout(0.2))"
   ]
  },
  {
   "cell_type": "markdown",
   "id": "e119116c-8568-4bc6-b74e-ea55846e79fb",
   "metadata": {},
   "source": [
    "# Adding fourth layer"
   ]
  },
  {
   "cell_type": "code",
   "execution_count": 120,
   "id": "bf17a464-57ab-4c89-a096-adcc3a4a9156",
   "metadata": {},
   "outputs": [],
   "source": [
    "rnn_reg.add(LSTM(units=50))\n",
    "rnn_reg.add(Dropout(0.2))"
   ]
  },
  {
   "cell_type": "markdown",
   "id": "9bbdae82-ffbf-4be8-b629-9c73e3144d64",
   "metadata": {},
   "source": [
    "# Adding output layer"
   ]
  },
  {
   "cell_type": "code",
   "execution_count": 121,
   "id": "896807c1-62a5-4d3e-9180-1e4a7d63d395",
   "metadata": {},
   "outputs": [],
   "source": [
    "rnn_reg.add(Dense(units=1))"
   ]
  },
  {
   "cell_type": "markdown",
   "id": "052bcb00-2710-4d3e-b583-00107c905b08",
   "metadata": {},
   "source": [
    "# MOdel compilation"
   ]
  },
  {
   "cell_type": "code",
   "execution_count": 122,
   "id": "240a3274-5d23-4393-802d-3bbeb76e77ae",
   "metadata": {},
   "outputs": [],
   "source": [
    "# regression problem\n",
    "rnn_reg.compile(optimizer='adam',loss='mse')"
   ]
  },
  {
   "cell_type": "markdown",
   "id": "42b18a46-994f-45ba-93c1-4325cb22e9e0",
   "metadata": {},
   "source": [
    "# Model Training"
   ]
  },
  {
   "cell_type": "code",
   "execution_count": 123,
   "id": "3d2f517f-c374-41e4-bd2b-0c8f87cadbb4",
   "metadata": {},
   "outputs": [
    {
     "data": {
      "text/plain": [
       "(1198, 60, 1)"
      ]
     },
     "execution_count": 123,
     "metadata": {},
     "output_type": "execute_result"
    }
   ],
   "source": [
    "x_train.shape"
   ]
  },
  {
   "cell_type": "code",
   "execution_count": 124,
   "id": "07be8f99-2faa-4d7c-a05a-61cd7e8106ad",
   "metadata": {},
   "outputs": [
    {
     "name": "stdout",
     "output_type": "stream",
     "text": [
      "Epoch 1/50\n",
      "38/38 [==============================] - 20s 131ms/step - loss: 0.0370\n",
      "Epoch 2/50\n",
      "38/38 [==============================] - 5s 135ms/step - loss: 0.0060\n",
      "Epoch 3/50\n",
      "38/38 [==============================] - 5s 135ms/step - loss: 0.0058\n",
      "Epoch 4/50\n",
      "38/38 [==============================] - 5s 138ms/step - loss: 0.0056\n",
      "Epoch 5/50\n",
      "38/38 [==============================] - 5s 139ms/step - loss: 0.0054\n",
      "Epoch 6/50\n",
      "38/38 [==============================] - 5s 136ms/step - loss: 0.0045\n",
      "Epoch 7/50\n",
      "38/38 [==============================] - 5s 137ms/step - loss: 0.0049\n",
      "Epoch 8/50\n",
      "38/38 [==============================] - 5s 136ms/step - loss: 0.0043\n",
      "Epoch 9/50\n",
      "38/38 [==============================] - 5s 135ms/step - loss: 0.0046\n",
      "Epoch 10/50\n",
      "38/38 [==============================] - 5s 138ms/step - loss: 0.0047\n",
      "Epoch 11/50\n",
      "38/38 [==============================] - 5s 138ms/step - loss: 0.0041\n",
      "Epoch 12/50\n",
      "38/38 [==============================] - 5s 137ms/step - loss: 0.0050\n",
      "Epoch 13/50\n",
      "38/38 [==============================] - 5s 137ms/step - loss: 0.0038\n",
      "Epoch 14/50\n",
      "38/38 [==============================] - 5s 138ms/step - loss: 0.0040\n",
      "Epoch 15/50\n",
      "38/38 [==============================] - 5s 136ms/step - loss: 0.0043\n",
      "Epoch 16/50\n",
      "38/38 [==============================] - 5s 140ms/step - loss: 0.0036\n",
      "Epoch 17/50\n",
      "38/38 [==============================] - 6s 148ms/step - loss: 0.0033\n",
      "Epoch 18/50\n",
      "38/38 [==============================] - 5s 136ms/step - loss: 0.0036\n",
      "Epoch 19/50\n",
      "38/38 [==============================] - 5s 137ms/step - loss: 0.0039\n",
      "Epoch 20/50\n",
      "38/38 [==============================] - 5s 138ms/step - loss: 0.0037\n",
      "Epoch 21/50\n",
      "38/38 [==============================] - 5s 135ms/step - loss: 0.0036\n",
      "Epoch 22/50\n",
      "38/38 [==============================] - 5s 139ms/step - loss: 0.0037\n",
      "Epoch 23/50\n",
      "38/38 [==============================] - 5s 137ms/step - loss: 0.0031\n",
      "Epoch 24/50\n",
      "38/38 [==============================] - 5s 139ms/step - loss: 0.0033\n",
      "Epoch 25/50\n",
      "38/38 [==============================] - 5s 143ms/step - loss: 0.0034\n",
      "Epoch 26/50\n",
      "38/38 [==============================] - 5s 144ms/step - loss: 0.0034\n",
      "Epoch 27/50\n",
      "38/38 [==============================] - 5s 143ms/step - loss: 0.0029\n",
      "Epoch 28/50\n",
      "38/38 [==============================] - 5s 145ms/step - loss: 0.0031\n",
      "Epoch 29/50\n",
      "38/38 [==============================] - 6s 148ms/step - loss: 0.0029\n",
      "Epoch 30/50\n",
      "38/38 [==============================] - 6s 145ms/step - loss: 0.0027\n",
      "Epoch 31/50\n",
      "38/38 [==============================] - 6s 146ms/step - loss: 0.0030\n",
      "Epoch 32/50\n",
      "38/38 [==============================] - 5s 142ms/step - loss: 0.0036\n",
      "Epoch 33/50\n",
      "38/38 [==============================] - 5s 142ms/step - loss: 0.0029\n",
      "Epoch 34/50\n",
      "38/38 [==============================] - 5s 142ms/step - loss: 0.0030\n",
      "Epoch 35/50\n",
      "38/38 [==============================] - 5s 143ms/step - loss: 0.0029\n",
      "Epoch 36/50\n",
      "38/38 [==============================] - 5s 144ms/step - loss: 0.0026\n",
      "Epoch 37/50\n",
      "38/38 [==============================] - 5s 140ms/step - loss: 0.0027\n",
      "Epoch 38/50\n",
      "38/38 [==============================] - 6s 145ms/step - loss: 0.0026\n",
      "Epoch 39/50\n",
      "38/38 [==============================] - 5s 140ms/step - loss: 0.0029\n",
      "Epoch 40/50\n",
      "38/38 [==============================] - 5s 142ms/step - loss: 0.0030\n",
      "Epoch 41/50\n",
      "38/38 [==============================] - 6s 148ms/step - loss: 0.0027\n",
      "Epoch 42/50\n",
      "38/38 [==============================] - 5s 142ms/step - loss: 0.0027\n",
      "Epoch 43/50\n",
      "38/38 [==============================] - 5s 144ms/step - loss: 0.0027\n",
      "Epoch 44/50\n",
      "38/38 [==============================] - 6s 149ms/step - loss: 0.0027\n",
      "Epoch 45/50\n",
      "38/38 [==============================] - 5s 140ms/step - loss: 0.0028\n",
      "Epoch 46/50\n",
      "38/38 [==============================] - 5s 144ms/step - loss: 0.0025\n",
      "Epoch 47/50\n",
      "38/38 [==============================] - 5s 142ms/step - loss: 0.0026\n",
      "Epoch 48/50\n",
      "38/38 [==============================] - 5s 145ms/step - loss: 0.0025\n",
      "Epoch 49/50\n",
      "38/38 [==============================] - 5s 145ms/step - loss: 0.0024\n",
      "Epoch 50/50\n",
      "38/38 [==============================] - 6s 146ms/step - loss: 0.0022\n"
     ]
    },
    {
     "data": {
      "text/plain": [
       "<keras.callbacks.History at 0x4c45f286d0>"
      ]
     },
     "execution_count": 124,
     "metadata": {},
     "output_type": "execute_result"
    }
   ],
   "source": [
    "rnn_reg.fit(x_train,y_train,batch_size=32,epochs=50)"
   ]
  },
  {
   "cell_type": "markdown",
   "id": "b8233eed-a17b-4322-aa7a-e7efecf2d666",
   "metadata": {},
   "source": [
    "# Reading Test Data"
   ]
  },
  {
   "cell_type": "code",
   "execution_count": 125,
   "id": "dc6c1b10-0a1e-4cd4-9b11-ae40a01f9283",
   "metadata": {},
   "outputs": [
    {
     "data": {
      "text/html": [
       "<div>\n",
       "<style scoped>\n",
       "    .dataframe tbody tr th:only-of-type {\n",
       "        vertical-align: middle;\n",
       "    }\n",
       "\n",
       "    .dataframe tbody tr th {\n",
       "        vertical-align: top;\n",
       "    }\n",
       "\n",
       "    .dataframe thead th {\n",
       "        text-align: right;\n",
       "    }\n",
       "</style>\n",
       "<table border=\"1\" class=\"dataframe\">\n",
       "  <thead>\n",
       "    <tr style=\"text-align: right;\">\n",
       "      <th></th>\n",
       "      <th>Date</th>\n",
       "      <th>Open</th>\n",
       "      <th>High</th>\n",
       "      <th>Low</th>\n",
       "      <th>Close</th>\n",
       "      <th>Volume</th>\n",
       "    </tr>\n",
       "  </thead>\n",
       "  <tbody>\n",
       "    <tr>\n",
       "      <th>0</th>\n",
       "      <td>1/3/2017</td>\n",
       "      <td>778.81</td>\n",
       "      <td>789.63</td>\n",
       "      <td>775.80</td>\n",
       "      <td>786.14</td>\n",
       "      <td>1,657,300</td>\n",
       "    </tr>\n",
       "    <tr>\n",
       "      <th>1</th>\n",
       "      <td>1/4/2017</td>\n",
       "      <td>788.36</td>\n",
       "      <td>791.34</td>\n",
       "      <td>783.16</td>\n",
       "      <td>786.90</td>\n",
       "      <td>1,073,000</td>\n",
       "    </tr>\n",
       "    <tr>\n",
       "      <th>2</th>\n",
       "      <td>1/5/2017</td>\n",
       "      <td>786.08</td>\n",
       "      <td>794.48</td>\n",
       "      <td>785.02</td>\n",
       "      <td>794.02</td>\n",
       "      <td>1,335,200</td>\n",
       "    </tr>\n",
       "    <tr>\n",
       "      <th>3</th>\n",
       "      <td>1/6/2017</td>\n",
       "      <td>795.26</td>\n",
       "      <td>807.90</td>\n",
       "      <td>792.20</td>\n",
       "      <td>806.15</td>\n",
       "      <td>1,640,200</td>\n",
       "    </tr>\n",
       "    <tr>\n",
       "      <th>4</th>\n",
       "      <td>1/9/2017</td>\n",
       "      <td>806.40</td>\n",
       "      <td>809.97</td>\n",
       "      <td>802.83</td>\n",
       "      <td>806.65</td>\n",
       "      <td>1,272,400</td>\n",
       "    </tr>\n",
       "  </tbody>\n",
       "</table>\n",
       "</div>"
      ],
      "text/plain": [
       "       Date    Open    High     Low   Close     Volume\n",
       "0  1/3/2017  778.81  789.63  775.80  786.14  1,657,300\n",
       "1  1/4/2017  788.36  791.34  783.16  786.90  1,073,000\n",
       "2  1/5/2017  786.08  794.48  785.02  794.02  1,335,200\n",
       "3  1/6/2017  795.26  807.90  792.20  806.15  1,640,200\n",
       "4  1/9/2017  806.40  809.97  802.83  806.65  1,272,400"
      ]
     },
     "execution_count": 125,
     "metadata": {},
     "output_type": "execute_result"
    }
   ],
   "source": [
    "dataset_test=pd.read_csv('Google_Stock_Price_Test.csv')\n",
    "dataset_test.head()"
   ]
  },
  {
   "cell_type": "code",
   "execution_count": 126,
   "id": "c8645e15-0eec-4cb8-bc56-74c417e687c4",
   "metadata": {},
   "outputs": [],
   "source": [
    "real_stock_price=dataset_test.iloc[:,1:2].values"
   ]
  },
  {
   "cell_type": "code",
   "execution_count": 127,
   "id": "53d8a56a-abbf-4d4b-8447-5a80406dd35f",
   "metadata": {},
   "outputs": [
    {
     "data": {
      "text/plain": [
       "array([[778.81],\n",
       "       [788.36],\n",
       "       [786.08],\n",
       "       [795.26],\n",
       "       [806.4 ],\n",
       "       [807.86],\n",
       "       [805.  ],\n",
       "       [807.14],\n",
       "       [807.48],\n",
       "       [807.08],\n",
       "       [805.81],\n",
       "       [805.12],\n",
       "       [806.91],\n",
       "       [807.25],\n",
       "       [822.3 ],\n",
       "       [829.62],\n",
       "       [837.81],\n",
       "       [834.71],\n",
       "       [814.66],\n",
       "       [796.86]])"
      ]
     },
     "execution_count": 127,
     "metadata": {},
     "output_type": "execute_result"
    }
   ],
   "source": [
    "real_stock_price"
   ]
  },
  {
   "cell_type": "code",
   "execution_count": 128,
   "id": "552d8031-1d00-47c6-850b-9aa82561ca0d",
   "metadata": {},
   "outputs": [],
   "source": [
    "dataset_total=pd.concat((df['Open'],dataset_test['Open']),axis=0)"
   ]
  },
  {
   "cell_type": "code",
   "execution_count": 129,
   "id": "baf46e2e-b494-477e-9958-323db050ae1a",
   "metadata": {},
   "outputs": [
    {
     "data": {
      "text/plain": [
       "(1278,)"
      ]
     },
     "execution_count": 129,
     "metadata": {},
     "output_type": "execute_result"
    }
   ],
   "source": [
    "dataset_total.shape"
   ]
  },
  {
   "cell_type": "code",
   "execution_count": 130,
   "id": "91ca1f76-78f1-4e83-ab37-93a8651c3630",
   "metadata": {},
   "outputs": [],
   "source": [
    "inputs=dataset_total[len(dataset_total)-len(dataset_test)-60:].values"
   ]
  },
  {
   "cell_type": "code",
   "execution_count": 131,
   "id": "f4eddaae-3fd8-4e3f-8e5c-3e3ccb5106ed",
   "metadata": {},
   "outputs": [
    {
     "name": "stdout",
     "output_type": "stream",
     "text": [
      "1/1 [==============================] - 3s 3s/step\n"
     ]
    }
   ],
   "source": [
    "inputs=inputs.reshape(-1,1)\n",
    "inputs=sc.transform(inputs)\n",
    "x_test=[]\n",
    "for i in range(60,80):\n",
    "    x_test.append(inputs[i-60:i,0])\n",
    "x_test=np.array(x_test)\n",
    "x_test=np.reshape(x_test,(x_test.shape[0],x_test.shape[1],1)) \n",
    "predicted_stock_price=rnn_reg.predict(x_test)\n",
    "predicted_stock_price=sc.inverse_transform(predicted_stock_price)"
   ]
  },
  {
   "cell_type": "code",
   "execution_count": 132,
   "id": "e0d16b08-755d-4c6d-82db-bc274aed86c2",
   "metadata": {},
   "outputs": [
    {
     "data": {
      "text/plain": [
       "array([[791.0943 ],\n",
       "       [789.1868 ],\n",
       "       [787.23206],\n",
       "       [785.49194],\n",
       "       [784.3509 ],\n",
       "       [784.2627 ],\n",
       "       [785.39185],\n",
       "       [787.5233 ],\n",
       "       [790.3279 ],\n",
       "       [793.4297 ],\n",
       "       [796.4717 ],\n",
       "       [799.1504 ],\n",
       "       [801.26746],\n",
       "       [802.7951 ],\n",
       "       [803.79535],\n",
       "       [804.7387 ],\n",
       "       [806.10596],\n",
       "       [808.2825 ],\n",
       "       [811.2127 ],\n",
       "       [814.10535]], dtype=float32)"
      ]
     },
     "execution_count": 132,
     "metadata": {},
     "output_type": "execute_result"
    }
   ],
   "source": [
    "predicted_stock_price"
   ]
  },
  {
   "cell_type": "markdown",
   "id": "191f00d2-cf13-45a1-90e1-0f94ff565e89",
   "metadata": {},
   "source": [
    "# Visualizing the test result"
   ]
  },
  {
   "cell_type": "code",
   "execution_count": 133,
   "id": "32c2112f-dd2d-48a0-90f4-a0d30e9b27d3",
   "metadata": {},
   "outputs": [
    {
     "data": {
      "image/png": "[encoded data removed]",
      "text/plain": [
       "<Figure size 432x288 with 1 Axes>"
      ]
     },
     "metadata": {
      "needs_background": "light"
     },
     "output_type": "display_data"
    }
   ],
   "source": [
    "plt.plot(real_stock_price,color='red',label='Real Stock Price')\n",
    "plt.plot(predicted_stock_price,color='blue',label='Predicted Stock Price')\n",
    "plt.title('Google Real VS Predicted Stock Price')\n",
    "plt.xlabel('Time')\n",
    "plt.ylabel('Stock Price')\n",
    "plt.legend()\n",
    "plt.show()"
   ]
  },
  {
   "cell_type": "code",
   "execution_count": null,
   "id": "e80d5d1b-c7c2-490c-8f18-ab1aba40476c",
   "metadata": {},
   "outputs": [],
   "source": []
  }
 ],
 "metadata": {
  "kernelspec": {
   "display_name": "Python 3 (ipykernel)",
   "language": "python",
   "name": "python3"
  },
  "language_info": {
   "codemirror_mode": {
    "name": "ipython",
    "version": 3
   },
   "file_extension": ".py",
   "mimetype": "text/x-python",
   "name": "python",
   "nbconvert_exporter": "python",
   "pygments_lexer": "ipython3",
   "version": "3.9.12"
  }
 },
 "nbformat": 4,
 "nbformat_minor": 5
}
