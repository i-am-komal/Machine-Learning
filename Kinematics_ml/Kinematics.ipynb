{
 "cells": [
  {
   "cell_type": "markdown",
   "id": "022f6f89-c7dd-4c62-b2ce-32e01b56ff77",
   "metadata": {},
   "source": [
    "# Predicting Activity of a User"
   ]
  },
  {
   "cell_type": "markdown",
   "id": "19553a67-27c2-4582-9083-10234e0ef48c",
   "metadata": {
    "tags": []
   },
   "source": [
    "# Importing Libraries"
   ]
  },
  {
   "cell_type": "code",
   "execution_count": 1,
   "id": "75b2cd69-1125-40e3-805b-08ebc48a91b6",
   "metadata": {},
   "outputs": [],
   "source": [
    "import numpy as np\n",
    "import pandas as pd\n",
    "import matplotlib.pyplot as plt\n",
    "import seaborn as sns\n",
    "import  warnings\n",
    "warnings.filterwarnings(action='ignore')"
   ]
  },
  {
   "cell_type": "markdown",
   "id": "18809484-a29f-4caa-9238-3083e611c38a",
   "metadata": {},
   "source": [
    "# Reading File"
   ]
  },
  {
   "cell_type": "code",
   "execution_count": 2,
   "id": "1a31aecc-953c-482e-a815-942da03ecf6c",
   "metadata": {},
   "outputs": [
    {
     "data": {
      "text/html": [
       "<div>\n",
       "<style scoped>\n",
       "    .dataframe tbody tr th:only-of-type {\n",
       "        vertical-align: middle;\n",
       "    }\n",
       "\n",
       "    .dataframe tbody tr th {\n",
       "        vertical-align: top;\n",
       "    }\n",
       "\n",
       "    .dataframe thead th {\n",
       "        text-align: right;\n",
       "    }\n",
       "</style>\n",
       "<table border=\"1\" class=\"dataframe\">\n",
       "  <thead>\n",
       "    <tr style=\"text-align: right;\">\n",
       "      <th></th>\n",
       "      <th>date</th>\n",
       "      <th>time</th>\n",
       "      <th>username</th>\n",
       "      <th>wrist</th>\n",
       "      <th>activity</th>\n",
       "      <th>acceleration_x</th>\n",
       "      <th>acceleration_y</th>\n",
       "      <th>acceleration_z</th>\n",
       "      <th>gyro_x</th>\n",
       "      <th>gyro_y</th>\n",
       "      <th>gyro_z</th>\n",
       "    </tr>\n",
       "  </thead>\n",
       "  <tbody>\n",
       "    <tr>\n",
       "      <th>0</th>\n",
       "      <td>2017-6-30</td>\n",
       "      <td>13:51:15:847724020</td>\n",
       "      <td>viktor</td>\n",
       "      <td>0</td>\n",
       "      <td>0</td>\n",
       "      <td>0.2650</td>\n",
       "      <td>-0.7814</td>\n",
       "      <td>-0.0076</td>\n",
       "      <td>-0.0590</td>\n",
       "      <td>0.0325</td>\n",
       "      <td>-2.9296</td>\n",
       "    </tr>\n",
       "    <tr>\n",
       "      <th>1</th>\n",
       "      <td>2017-6-30</td>\n",
       "      <td>13:51:16:246945023</td>\n",
       "      <td>viktor</td>\n",
       "      <td>0</td>\n",
       "      <td>0</td>\n",
       "      <td>0.6722</td>\n",
       "      <td>-1.1233</td>\n",
       "      <td>-0.2344</td>\n",
       "      <td>-0.1757</td>\n",
       "      <td>0.0208</td>\n",
       "      <td>0.1269</td>\n",
       "    </tr>\n",
       "    <tr>\n",
       "      <th>2</th>\n",
       "      <td>2017-6-30</td>\n",
       "      <td>13:51:16:446233987</td>\n",
       "      <td>viktor</td>\n",
       "      <td>0</td>\n",
       "      <td>0</td>\n",
       "      <td>0.4399</td>\n",
       "      <td>-1.4817</td>\n",
       "      <td>0.0722</td>\n",
       "      <td>-0.9105</td>\n",
       "      <td>0.1063</td>\n",
       "      <td>-2.4367</td>\n",
       "    </tr>\n",
       "    <tr>\n",
       "      <th>3</th>\n",
       "      <td>2017-6-30</td>\n",
       "      <td>13:51:16:646117985</td>\n",
       "      <td>viktor</td>\n",
       "      <td>0</td>\n",
       "      <td>0</td>\n",
       "      <td>0.3031</td>\n",
       "      <td>-0.8125</td>\n",
       "      <td>0.0888</td>\n",
       "      <td>0.1199</td>\n",
       "      <td>-0.4099</td>\n",
       "      <td>-2.9336</td>\n",
       "    </tr>\n",
       "    <tr>\n",
       "      <th>4</th>\n",
       "      <td>2017-6-30</td>\n",
       "      <td>13:51:16:846738994</td>\n",
       "      <td>viktor</td>\n",
       "      <td>0</td>\n",
       "      <td>0</td>\n",
       "      <td>0.4814</td>\n",
       "      <td>-0.9312</td>\n",
       "      <td>0.0359</td>\n",
       "      <td>0.0527</td>\n",
       "      <td>0.4379</td>\n",
       "      <td>2.4922</td>\n",
       "    </tr>\n",
       "    <tr>\n",
       "      <th>...</th>\n",
       "      <td>...</td>\n",
       "      <td>...</td>\n",
       "      <td>...</td>\n",
       "      <td>...</td>\n",
       "      <td>...</td>\n",
       "      <td>...</td>\n",
       "      <td>...</td>\n",
       "      <td>...</td>\n",
       "      <td>...</td>\n",
       "      <td>...</td>\n",
       "      <td>...</td>\n",
       "    </tr>\n",
       "    <tr>\n",
       "      <th>88583</th>\n",
       "      <td>2017-7-9</td>\n",
       "      <td>20:9:15:317911028</td>\n",
       "      <td>viktor</td>\n",
       "      <td>0</td>\n",
       "      <td>0</td>\n",
       "      <td>0.3084</td>\n",
       "      <td>-0.8376</td>\n",
       "      <td>-0.1327</td>\n",
       "      <td>0.4823</td>\n",
       "      <td>2.0124</td>\n",
       "      <td>0.6048</td>\n",
       "    </tr>\n",
       "    <tr>\n",
       "      <th>88584</th>\n",
       "      <td>2017-7-9</td>\n",
       "      <td>20:9:15:517889022</td>\n",
       "      <td>viktor</td>\n",
       "      <td>0</td>\n",
       "      <td>0</td>\n",
       "      <td>0.4977</td>\n",
       "      <td>-1.0027</td>\n",
       "      <td>-0.4397</td>\n",
       "      <td>0.1022</td>\n",
       "      <td>-1.2565</td>\n",
       "      <td>-0.0761</td>\n",
       "    </tr>\n",
       "    <tr>\n",
       "      <th>88585</th>\n",
       "      <td>2017-7-9</td>\n",
       "      <td>20:9:15:717828989</td>\n",
       "      <td>viktor</td>\n",
       "      <td>0</td>\n",
       "      <td>0</td>\n",
       "      <td>0.4587</td>\n",
       "      <td>-1.1780</td>\n",
       "      <td>-0.2827</td>\n",
       "      <td>-1.4500</td>\n",
       "      <td>-0.2792</td>\n",
       "      <td>-1.2616</td>\n",
       "    </tr>\n",
       "    <tr>\n",
       "      <th>88586</th>\n",
       "      <td>2017-7-9</td>\n",
       "      <td>20:9:15:917932987</td>\n",
       "      <td>viktor</td>\n",
       "      <td>0</td>\n",
       "      <td>0</td>\n",
       "      <td>0.2590</td>\n",
       "      <td>-0.8582</td>\n",
       "      <td>-0.0759</td>\n",
       "      <td>-1.5165</td>\n",
       "      <td>0.4560</td>\n",
       "      <td>-1.7755</td>\n",
       "    </tr>\n",
       "    <tr>\n",
       "      <th>88587</th>\n",
       "      <td>2017-7-9</td>\n",
       "      <td>20:9:16:117410004</td>\n",
       "      <td>viktor</td>\n",
       "      <td>0</td>\n",
       "      <td>0</td>\n",
       "      <td>0.3140</td>\n",
       "      <td>-0.8008</td>\n",
       "      <td>-0.0911</td>\n",
       "      <td>0.1183</td>\n",
       "      <td>1.0850</td>\n",
       "      <td>1.2814</td>\n",
       "    </tr>\n",
       "  </tbody>\n",
       "</table>\n",
       "<p>88588 rows × 11 columns</p>\n",
       "</div>"
      ],
      "text/plain": [
       "            date                time username  wrist  activity  \\\n",
       "0      2017-6-30  13:51:15:847724020   viktor      0         0   \n",
       "1      2017-6-30  13:51:16:246945023   viktor      0         0   \n",
       "2      2017-6-30  13:51:16:446233987   viktor      0         0   \n",
       "3      2017-6-30  13:51:16:646117985   viktor      0         0   \n",
       "4      2017-6-30  13:51:16:846738994   viktor      0         0   \n",
       "...          ...                 ...      ...    ...       ...   \n",
       "88583   2017-7-9   20:9:15:317911028   viktor      0         0   \n",
       "88584   2017-7-9   20:9:15:517889022   viktor      0         0   \n",
       "88585   2017-7-9   20:9:15:717828989   viktor      0         0   \n",
       "88586   2017-7-9   20:9:15:917932987   viktor      0         0   \n",
       "88587   2017-7-9   20:9:16:117410004   viktor      0         0   \n",
       "\n",
       "       acceleration_x  acceleration_y  acceleration_z  gyro_x  gyro_y  gyro_z  \n",
       "0              0.2650         -0.7814         -0.0076 -0.0590  0.0325 -2.9296  \n",
       "1              0.6722         -1.1233         -0.2344 -0.1757  0.0208  0.1269  \n",
       "2              0.4399         -1.4817          0.0722 -0.9105  0.1063 -2.4367  \n",
       "3              0.3031         -0.8125          0.0888  0.1199 -0.4099 -2.9336  \n",
       "4              0.4814         -0.9312          0.0359  0.0527  0.4379  2.4922  \n",
       "...               ...             ...             ...     ...     ...     ...  \n",
       "88583          0.3084         -0.8376         -0.1327  0.4823  2.0124  0.6048  \n",
       "88584          0.4977         -1.0027         -0.4397  0.1022 -1.2565 -0.0761  \n",
       "88585          0.4587         -1.1780         -0.2827 -1.4500 -0.2792 -1.2616  \n",
       "88586          0.2590         -0.8582         -0.0759 -1.5165  0.4560 -1.7755  \n",
       "88587          0.3140         -0.8008         -0.0911  0.1183  1.0850  1.2814  \n",
       "\n",
       "[88588 rows x 11 columns]"
      ]
     },
     "execution_count": 2,
     "metadata": {},
     "output_type": "execute_result"
    }
   ],
   "source": [
    "df=pd.read_csv('Kinematics_Data.csv')\n",
    "df"
   ]
  },
  {
   "cell_type": "markdown",
   "id": "51e64d02-c5c2-4f0e-8f3d-161cfab92fed",
   "metadata": {},
   "source": [
    "# Performing Basic Operations"
   ]
  },
  {
   "cell_type": "code",
   "execution_count": 3,
   "id": "0287922d-95f0-45dc-bf14-272e71631199",
   "metadata": {},
   "outputs": [
    {
     "data": {
      "text/html": [
       "<div>\n",
       "<style scoped>\n",
       "    .dataframe tbody tr th:only-of-type {\n",
       "        vertical-align: middle;\n",
       "    }\n",
       "\n",
       "    .dataframe tbody tr th {\n",
       "        vertical-align: top;\n",
       "    }\n",
       "\n",
       "    .dataframe thead th {\n",
       "        text-align: right;\n",
       "    }\n",
       "</style>\n",
       "<table border=\"1\" class=\"dataframe\">\n",
       "  <thead>\n",
       "    <tr style=\"text-align: right;\">\n",
       "      <th></th>\n",
       "      <th>date</th>\n",
       "      <th>time</th>\n",
       "      <th>username</th>\n",
       "      <th>wrist</th>\n",
       "      <th>activity</th>\n",
       "      <th>acceleration_x</th>\n",
       "      <th>acceleration_y</th>\n",
       "      <th>acceleration_z</th>\n",
       "      <th>gyro_x</th>\n",
       "      <th>gyro_y</th>\n",
       "      <th>gyro_z</th>\n",
       "    </tr>\n",
       "  </thead>\n",
       "  <tbody>\n",
       "    <tr>\n",
       "      <th>88586</th>\n",
       "      <td>2017-7-9</td>\n",
       "      <td>20:9:15:917932987</td>\n",
       "      <td>viktor</td>\n",
       "      <td>0</td>\n",
       "      <td>0</td>\n",
       "      <td>0.259</td>\n",
       "      <td>-0.8582</td>\n",
       "      <td>-0.0759</td>\n",
       "      <td>-1.5165</td>\n",
       "      <td>0.456</td>\n",
       "      <td>-1.7755</td>\n",
       "    </tr>\n",
       "    <tr>\n",
       "      <th>88587</th>\n",
       "      <td>2017-7-9</td>\n",
       "      <td>20:9:16:117410004</td>\n",
       "      <td>viktor</td>\n",
       "      <td>0</td>\n",
       "      <td>0</td>\n",
       "      <td>0.314</td>\n",
       "      <td>-0.8008</td>\n",
       "      <td>-0.0911</td>\n",
       "      <td>0.1183</td>\n",
       "      <td>1.085</td>\n",
       "      <td>1.2814</td>\n",
       "    </tr>\n",
       "  </tbody>\n",
       "</table>\n",
       "</div>"
      ],
      "text/plain": [
       "           date               time username  wrist  activity  acceleration_x  \\\n",
       "88586  2017-7-9  20:9:15:917932987   viktor      0         0           0.259   \n",
       "88587  2017-7-9  20:9:16:117410004   viktor      0         0           0.314   \n",
       "\n",
       "       acceleration_y  acceleration_z  gyro_x  gyro_y  gyro_z  \n",
       "88586         -0.8582         -0.0759 -1.5165   0.456 -1.7755  \n",
       "88587         -0.8008         -0.0911  0.1183   1.085  1.2814  "
      ]
     },
     "execution_count": 3,
     "metadata": {},
     "output_type": "execute_result"
    }
   ],
   "source": [
    "df.tail(2)"
   ]
  },
  {
   "cell_type": "code",
   "execution_count": 4,
   "id": "01c5d154-177e-4ce4-b67c-533e051fa741",
   "metadata": {},
   "outputs": [
    {
     "data": {
      "text/html": [
       "<div>\n",
       "<style scoped>\n",
       "    .dataframe tbody tr th:only-of-type {\n",
       "        vertical-align: middle;\n",
       "    }\n",
       "\n",
       "    .dataframe tbody tr th {\n",
       "        vertical-align: top;\n",
       "    }\n",
       "\n",
       "    .dataframe thead th {\n",
       "        text-align: right;\n",
       "    }\n",
       "</style>\n",
       "<table border=\"1\" class=\"dataframe\">\n",
       "  <thead>\n",
       "    <tr style=\"text-align: right;\">\n",
       "      <th></th>\n",
       "      <th>date</th>\n",
       "      <th>time</th>\n",
       "      <th>username</th>\n",
       "      <th>wrist</th>\n",
       "      <th>activity</th>\n",
       "      <th>acceleration_x</th>\n",
       "      <th>acceleration_y</th>\n",
       "      <th>acceleration_z</th>\n",
       "      <th>gyro_x</th>\n",
       "      <th>gyro_y</th>\n",
       "      <th>gyro_z</th>\n",
       "    </tr>\n",
       "  </thead>\n",
       "  <tbody>\n",
       "    <tr>\n",
       "      <th>68305</th>\n",
       "      <td>2017-7-6</td>\n",
       "      <td>16:3:29:284174978</td>\n",
       "      <td>viktor</td>\n",
       "      <td>0</td>\n",
       "      <td>0</td>\n",
       "      <td>0.2086</td>\n",
       "      <td>-0.9418</td>\n",
       "      <td>-0.4126</td>\n",
       "      <td>0.9591</td>\n",
       "      <td>0.9762</td>\n",
       "      <td>0.4071</td>\n",
       "    </tr>\n",
       "  </tbody>\n",
       "</table>\n",
       "</div>"
      ],
      "text/plain": [
       "           date               time username  wrist  activity  acceleration_x  \\\n",
       "68305  2017-7-6  16:3:29:284174978   viktor      0         0          0.2086   \n",
       "\n",
       "       acceleration_y  acceleration_z  gyro_x  gyro_y  gyro_z  \n",
       "68305         -0.9418         -0.4126  0.9591  0.9762  0.4071  "
      ]
     },
     "execution_count": 4,
     "metadata": {},
     "output_type": "execute_result"
    }
   ],
   "source": [
    "df.sample()"
   ]
  },
  {
   "cell_type": "code",
   "execution_count": 5,
   "id": "3581a7ee-7485-47f2-bedd-21bbc4ae59c2",
   "metadata": {},
   "outputs": [
    {
     "data": {
      "text/html": [
       "<div>\n",
       "<style scoped>\n",
       "    .dataframe tbody tr th:only-of-type {\n",
       "        vertical-align: middle;\n",
       "    }\n",
       "\n",
       "    .dataframe tbody tr th {\n",
       "        vertical-align: top;\n",
       "    }\n",
       "\n",
       "    .dataframe thead th {\n",
       "        text-align: right;\n",
       "    }\n",
       "</style>\n",
       "<table border=\"1\" class=\"dataframe\">\n",
       "  <thead>\n",
       "    <tr style=\"text-align: right;\">\n",
       "      <th></th>\n",
       "      <th>wrist</th>\n",
       "      <th>activity</th>\n",
       "      <th>acceleration_x</th>\n",
       "      <th>acceleration_y</th>\n",
       "      <th>acceleration_z</th>\n",
       "      <th>gyro_x</th>\n",
       "      <th>gyro_y</th>\n",
       "      <th>gyro_z</th>\n",
       "    </tr>\n",
       "  </thead>\n",
       "  <tbody>\n",
       "    <tr>\n",
       "      <th>count</th>\n",
       "      <td>88588.000000</td>\n",
       "      <td>88588.000000</td>\n",
       "      <td>88588.000000</td>\n",
       "      <td>88588.000000</td>\n",
       "      <td>88588.000000</td>\n",
       "      <td>88588.000000</td>\n",
       "      <td>88588.000000</td>\n",
       "      <td>88588.000000</td>\n",
       "    </tr>\n",
       "    <tr>\n",
       "      <th>mean</th>\n",
       "      <td>0.522170</td>\n",
       "      <td>0.500801</td>\n",
       "      <td>-0.074811</td>\n",
       "      <td>-0.562585</td>\n",
       "      <td>-0.313956</td>\n",
       "      <td>0.004160</td>\n",
       "      <td>0.037203</td>\n",
       "      <td>0.022327</td>\n",
       "    </tr>\n",
       "    <tr>\n",
       "      <th>std</th>\n",
       "      <td>0.499511</td>\n",
       "      <td>0.500002</td>\n",
       "      <td>1.009299</td>\n",
       "      <td>0.658458</td>\n",
       "      <td>0.486815</td>\n",
       "      <td>1.253423</td>\n",
       "      <td>1.198725</td>\n",
       "      <td>1.914423</td>\n",
       "    </tr>\n",
       "    <tr>\n",
       "      <th>min</th>\n",
       "      <td>0.000000</td>\n",
       "      <td>0.000000</td>\n",
       "      <td>-5.350500</td>\n",
       "      <td>-3.299000</td>\n",
       "      <td>-3.753800</td>\n",
       "      <td>-4.430600</td>\n",
       "      <td>-7.464700</td>\n",
       "      <td>-9.480000</td>\n",
       "    </tr>\n",
       "    <tr>\n",
       "      <th>25%</th>\n",
       "      <td>0.000000</td>\n",
       "      <td>0.000000</td>\n",
       "      <td>-0.381800</td>\n",
       "      <td>-1.033500</td>\n",
       "      <td>-0.376000</td>\n",
       "      <td>-0.920700</td>\n",
       "      <td>-0.644825</td>\n",
       "      <td>-1.345125</td>\n",
       "    </tr>\n",
       "    <tr>\n",
       "      <th>50%</th>\n",
       "      <td>1.000000</td>\n",
       "      <td>1.000000</td>\n",
       "      <td>-0.059500</td>\n",
       "      <td>-0.759100</td>\n",
       "      <td>-0.221000</td>\n",
       "      <td>0.018700</td>\n",
       "      <td>0.039300</td>\n",
       "      <td>0.006900</td>\n",
       "    </tr>\n",
       "    <tr>\n",
       "      <th>75%</th>\n",
       "      <td>1.000000</td>\n",
       "      <td>1.000000</td>\n",
       "      <td>0.355500</td>\n",
       "      <td>-0.241775</td>\n",
       "      <td>-0.085900</td>\n",
       "      <td>0.888800</td>\n",
       "      <td>0.733700</td>\n",
       "      <td>1.398200</td>\n",
       "    </tr>\n",
       "    <tr>\n",
       "      <th>max</th>\n",
       "      <td>1.000000</td>\n",
       "      <td>1.000000</td>\n",
       "      <td>5.603300</td>\n",
       "      <td>2.668000</td>\n",
       "      <td>1.640300</td>\n",
       "      <td>4.874200</td>\n",
       "      <td>8.498000</td>\n",
       "      <td>11.266200</td>\n",
       "    </tr>\n",
       "  </tbody>\n",
       "</table>\n",
       "</div>"
      ],
      "text/plain": [
       "              wrist      activity  acceleration_x  acceleration_y  \\\n",
       "count  88588.000000  88588.000000    88588.000000    88588.000000   \n",
       "mean       0.522170      0.500801       -0.074811       -0.562585   \n",
       "std        0.499511      0.500002        1.009299        0.658458   \n",
       "min        0.000000      0.000000       -5.350500       -3.299000   \n",
       "25%        0.000000      0.000000       -0.381800       -1.033500   \n",
       "50%        1.000000      1.000000       -0.059500       -0.759100   \n",
       "75%        1.000000      1.000000        0.355500       -0.241775   \n",
       "max        1.000000      1.000000        5.603300        2.668000   \n",
       "\n",
       "       acceleration_z        gyro_x        gyro_y        gyro_z  \n",
       "count    88588.000000  88588.000000  88588.000000  88588.000000  \n",
       "mean        -0.313956      0.004160      0.037203      0.022327  \n",
       "std          0.486815      1.253423      1.198725      1.914423  \n",
       "min         -3.753800     -4.430600     -7.464700     -9.480000  \n",
       "25%         -0.376000     -0.920700     -0.644825     -1.345125  \n",
       "50%         -0.221000      0.018700      0.039300      0.006900  \n",
       "75%         -0.085900      0.888800      0.733700      1.398200  \n",
       "max          1.640300      4.874200      8.498000     11.266200  "
      ]
     },
     "execution_count": 5,
     "metadata": {},
     "output_type": "execute_result"
    }
   ],
   "source": [
    "df.describe()"
   ]
  },
  {
   "cell_type": "code",
   "execution_count": 6,
   "id": "9f29c08a-1c45-4260-a8d2-c45e309a581c",
   "metadata": {},
   "outputs": [
    {
     "name": "stdout",
     "output_type": "stream",
     "text": [
      "<class 'pandas.core.frame.DataFrame'>\n",
      "RangeIndex: 88588 entries, 0 to 88587\n",
      "Data columns (total 11 columns):\n",
      " #   Column          Non-Null Count  Dtype  \n",
      "---  ------          --------------  -----  \n",
      " 0   date            88588 non-null  object \n",
      " 1   time            88588 non-null  object \n",
      " 2   username        88588 non-null  object \n",
      " 3   wrist           88588 non-null  int64  \n",
      " 4   activity        88588 non-null  int64  \n",
      " 5   acceleration_x  88588 non-null  float64\n",
      " 6   acceleration_y  88588 non-null  float64\n",
      " 7   acceleration_z  88588 non-null  float64\n",
      " 8   gyro_x          88588 non-null  float64\n",
      " 9   gyro_y          88588 non-null  float64\n",
      " 10  gyro_z          88588 non-null  float64\n",
      "dtypes: float64(6), int64(2), object(3)\n",
      "memory usage: 7.4+ MB\n"
     ]
    }
   ],
   "source": [
    "df.info()"
   ]
  },
  {
   "cell_type": "code",
   "execution_count": 7,
   "id": "46dcc80b-0804-4b6a-9ac0-78f4486457ed",
   "metadata": {},
   "outputs": [
    {
     "data": {
      "text/plain": [
       "date               object\n",
       "time               object\n",
       "username           object\n",
       "wrist               int64\n",
       "activity            int64\n",
       "acceleration_x    float64\n",
       "acceleration_y    float64\n",
       "acceleration_z    float64\n",
       "gyro_x            float64\n",
       "gyro_y            float64\n",
       "gyro_z            float64\n",
       "dtype: object"
      ]
     },
     "execution_count": 7,
     "metadata": {},
     "output_type": "execute_result"
    }
   ],
   "source": [
    "df.dtypes"
   ]
  },
  {
   "cell_type": "code",
   "execution_count": 8,
   "id": "27e62220-fa45-4425-8a68-9adf2eb22b9b",
   "metadata": {},
   "outputs": [
    {
     "data": {
      "text/plain": [
       "(88588, 11)"
      ]
     },
     "execution_count": 8,
     "metadata": {},
     "output_type": "execute_result"
    }
   ],
   "source": [
    "df.shape"
   ]
  },
  {
   "cell_type": "code",
   "execution_count": 9,
   "id": "d5b2b6df-2e1a-4a2e-81d0-6004d2b4aef7",
   "metadata": {},
   "outputs": [
    {
     "data": {
      "text/plain": [
       "date              0\n",
       "time              0\n",
       "username          0\n",
       "wrist             0\n",
       "activity          0\n",
       "acceleration_x    0\n",
       "acceleration_y    0\n",
       "acceleration_z    0\n",
       "gyro_x            0\n",
       "gyro_y            0\n",
       "gyro_z            0\n",
       "dtype: int64"
      ]
     },
     "execution_count": 9,
     "metadata": {},
     "output_type": "execute_result"
    }
   ],
   "source": [
    "df.isnull().sum()"
   ]
  },
  {
   "cell_type": "code",
   "execution_count": 10,
   "id": "1e5cc4d8-7b26-4eba-a938-39c8ddfd1eab",
   "metadata": {},
   "outputs": [
    {
     "data": {
      "text/plain": [
       "date                 12\n",
       "time              88588\n",
       "username              1\n",
       "wrist                 2\n",
       "activity              2\n",
       "acceleration_x    30307\n",
       "acceleration_y    23957\n",
       "acceleration_z    19698\n",
       "gyro_x            40988\n",
       "gyro_y            38957\n",
       "gyro_z            51296\n",
       "dtype: int64"
      ]
     },
     "execution_count": 10,
     "metadata": {},
     "output_type": "execute_result"
    }
   ],
   "source": [
    "df.nunique()"
   ]
  },
  {
   "cell_type": "code",
   "execution_count": 11,
   "id": "735fe27d-9393-48e4-afff-2408ffd91b26",
   "metadata": {},
   "outputs": [
    {
     "data": {
      "text/plain": [
       "Index(['date', 'time', 'username', 'wrist', 'activity', 'acceleration_x',\n",
       "       'acceleration_y', 'acceleration_z', 'gyro_x', 'gyro_y', 'gyro_z'],\n",
       "      dtype='object')"
      ]
     },
     "execution_count": 11,
     "metadata": {},
     "output_type": "execute_result"
    }
   ],
   "source": [
    "df.columns"
   ]
  },
  {
   "cell_type": "code",
   "execution_count": 16,
   "id": "a41707d9-4619-4ecd-9224-3b8cf68a64e2",
   "metadata": {},
   "outputs": [
    {
     "data": {
      "text/plain": [
       "array([0, 1], dtype=int64)"
      ]
     },
     "execution_count": 16,
     "metadata": {},
     "output_type": "execute_result"
    }
   ],
   "source": [
    "df['activity'].unique()"
   ]
  },
  {
   "cell_type": "code",
   "execution_count": 17,
   "id": "b240332d-5c2e-4f6c-85e6-42a7087dc057",
   "metadata": {},
   "outputs": [
    {
     "data": {
      "text/plain": [
       "2"
      ]
     },
     "execution_count": 17,
     "metadata": {},
     "output_type": "execute_result"
    }
   ],
   "source": [
    "df['activity'].nunique()"
   ]
  },
  {
   "cell_type": "code",
   "execution_count": 51,
   "id": "9121a224-b602-44a4-b397-5b5d368a75ea",
   "metadata": {},
   "outputs": [
    {
     "data": {
      "text/plain": [
       "array([0, 1], dtype=int64)"
      ]
     },
     "execution_count": 51,
     "metadata": {},
     "output_type": "execute_result"
    }
   ],
   "source": [
    "df['wrist'].unique()"
   ]
  },
  {
   "cell_type": "markdown",
   "id": "2fbb6899-5314-4ffc-a9fe-9f1ddfb8a886",
   "metadata": {},
   "source": [
    "# Eda:exploded data analysis &Visualization"
   ]
  },
  {
   "cell_type": "code",
   "execution_count": 53,
   "id": "c79fe7c6-2066-42cb-a848-758b1190bfb9",
   "metadata": {},
   "outputs": [
    {
     "data": {
      "image/png": "[encoded data removed]",
      "text/plain": [
       "<Figure size 1080x432 with 6 Axes>"
      ]
     },
     "metadata": {
      "needs_background": "light"
     },
     "output_type": "display_data"
    }
   ],
   "source": [
    "# Distribution Plot of Continuous Numerical Columns\n",
    "num_cols=['acceleration_x','acceleration_y', 'acceleration_z', 'gyro_x', 'gyro_y', 'gyro_z']\n",
    "plt.figure(figsize=(15,6))\n",
    "for indx,col in enumerate(num_cols):\n",
    "  plt.subplot(3,2,indx+1)\n",
    "  sns.distplot(df[col])"
   ]
  },
  {
   "cell_type": "code",
   "execution_count": 54,
   "id": "3b97e6da-3df2-4d2e-8741-29bb7eb54cda",
   "metadata": {},
   "outputs": [
    {
     "data": {
      "text/plain": [
       "1    0.500801\n",
       "0    0.499199\n",
       "Name: activity, dtype: float64"
      ]
     },
     "execution_count": 54,
     "metadata": {},
     "output_type": "execute_result"
    }
   ],
   "source": [
    "# Percentage of each catagory in activity column\n",
    "df['activity'].value_counts(normalize=True)"
   ]
  },
  {
   "cell_type": "code",
   "execution_count": 55,
   "id": "d205d86c-f4ea-4e43-ab22-bfd27dfda335",
   "metadata": {},
   "outputs": [
    {
     "data": {
      "text/plain": [
       "1    0.52217\n",
       "0    0.47783\n",
       "Name: wrist, dtype: float64"
      ]
     },
     "execution_count": 55,
     "metadata": {},
     "output_type": "execute_result"
    }
   ],
   "source": [
    "# Percentage of each catagory in wrist column\n",
    "df['wrist'].value_counts(normalize=True)"
   ]
  },
  {
   "cell_type": "code",
   "execution_count": 60,
   "id": "2508f91a-a613-405f-8ffe-7a913dd1b0dd",
   "metadata": {},
   "outputs": [
    {
     "data": {
      "image/png": "[encoded data removed]",
      "text/plain": [
       "<Figure size 1080x432 with 2 Axes>"
      ]
     },
     "metadata": {
      "needs_background": "light"
     },
     "output_type": "display_data"
    }
   ],
   "source": [
    "# Count Plot of catagorical columns\n",
    "cat_cols=['activity','wrist']\n",
    "plt.figure(figsize=(15,6))\n",
    "for indx,col in enumerate(cat_cols):\n",
    "    plt.subplot(1,2,indx+1)\n",
    "    _=sns.countplot(df[col])"
   ]
  },
  {
   "cell_type": "code",
   "execution_count": 56,
   "id": "af12966b-d092-4193-ab10-599c4dc29383",
   "metadata": {},
   "outputs": [
    {
     "data": {
      "image/png": "[encoded data removed]",
      "text/plain": [
       "<Figure size 720x720 with 2 Axes>"
      ]
     },
     "metadata": {
      "needs_background": "light"
     },
     "output_type": "display_data"
    }
   ],
   "source": [
    "# HeatMap of Corelation in dataset\n",
    "plt.figure(figsize=(10,10))\n",
    "_=sns.heatmap(df.corr(),annot=True,cmap=\"BuPu\")\n",
    "plt.title('HeatMap of Corelation in dataset')"
   ]
  },
  {
   "cell_type": "code",
   "execution_count": 1,
   "id": "841db5c9-5fdc-46d3-ae0a-e6de98b210e8",
   "metadata": {},
   "outputs": [
    {
     "ename": "NameError",
     "evalue": "name 'sns' is not defined",
     "output_type": "error",
     "traceback": [
      "\u001b[1;31m---------------------------------------------------------------------------\u001b[0m",
      "\u001b[1;31mNameError\u001b[0m                                 Traceback (most recent call last)",
      "Input \u001b[1;32mIn [1]\u001b[0m, in \u001b[0;36m<cell line: 2>\u001b[1;34m()\u001b[0m\n\u001b[0;32m      1\u001b[0m \u001b[38;5;66;03m# HeatMap of null Values\u001b[39;00m\n\u001b[1;32m----> 2\u001b[0m _\u001b[38;5;241m=\u001b[39m\u001b[43msns\u001b[49m\u001b[38;5;241m.\u001b[39mheatmap(df\u001b[38;5;241m.\u001b[39misna(),cbar\u001b[38;5;241m=\u001b[39m\u001b[38;5;28;01mTrue\u001b[39;00m,cmap\u001b[38;5;241m=\u001b[39m\u001b[38;5;124m'\u001b[39m\u001b[38;5;124mBuPu\u001b[39m\u001b[38;5;124m'\u001b[39m)\n\u001b[0;32m      3\u001b[0m plt\u001b[38;5;241m.\u001b[39mtitle(\u001b[38;5;124m'\u001b[39m\u001b[38;5;124m HeatMap of null Values\u001b[39m\u001b[38;5;124m'\u001b[39m)\n",
      "\u001b[1;31mNameError\u001b[0m: name 'sns' is not defined"
     ]
    }
   ],
   "source": [
    "# HeatMap of null Values\n",
    "_=sns.heatmap(df.isna(),cbar=True,cmap='BuPu')\n",
    "plt.title('HeatMap of null Values')"
   ]
  },
  {
   "cell_type": "raw",
   "id": "dd04a41a-f065-41cd-b4c4-a824697cdfcb",
   "metadata": {},
   "source": [
    "*The above Heatmap indicates that there are no null values in the given dataset"
   ]
  },
  {
   "cell_type": "markdown",
   "id": "1687ed67-0a54-419d-892d-968ecf03f197",
   "metadata": {},
   "source": [
    "# Handeling Missing Data"
   ]
  },
  {
   "cell_type": "code",
   "execution_count": 18,
   "id": "0448114c-3bc4-4044-87cf-6efc0df62d10",
   "metadata": {},
   "outputs": [
    {
     "data": {
      "text/plain": [
       "date              0.0\n",
       "time              0.0\n",
       "username          0.0\n",
       "wrist             0.0\n",
       "activity          0.0\n",
       "acceleration_x    0.0\n",
       "acceleration_y    0.0\n",
       "acceleration_z    0.0\n",
       "gyro_x            0.0\n",
       "gyro_y            0.0\n",
       "gyro_z            0.0\n",
       "dtype: float64"
      ]
     },
     "execution_count": 18,
     "metadata": {},
     "output_type": "execute_result"
    }
   ],
   "source": [
    "df.isnull().mean()*100"
   ]
  },
  {
   "cell_type": "markdown",
   "id": "793484cc-8799-4490-b4dc-ef191d9c9aa8",
   "metadata": {},
   "source": [
    "# Handeling Unwanted Columns"
   ]
  },
  {
   "cell_type": "code",
   "execution_count": 19,
   "id": "0c578ff1-72b7-42b3-a586-8f1c2afd7d3b",
   "metadata": {},
   "outputs": [],
   "source": [
    "df.drop(['date','time','username'],axis=1,inplace=True) "
   ]
  },
  {
   "cell_type": "code",
   "execution_count": 20,
   "id": "18acc31f-77bb-498f-b35d-4a26fd422810",
   "metadata": {},
   "outputs": [
    {
     "data": {
      "text/plain": [
       "Index(['wrist', 'activity', 'acceleration_x', 'acceleration_y',\n",
       "       'acceleration_z', 'gyro_x', 'gyro_y', 'gyro_z'],\n",
       "      dtype='object')"
      ]
     },
     "execution_count": 20,
     "metadata": {},
     "output_type": "execute_result"
    }
   ],
   "source": [
    "df.columns"
   ]
  },
  {
   "cell_type": "markdown",
   "id": "4a06e777-0cef-40a4-9add-ce41470090a4",
   "metadata": {},
   "source": [
    "# Spliting into x and y"
   ]
  },
  {
   "cell_type": "code",
   "execution_count": 21,
   "id": "45632346-e241-4edc-9660-a911c9149f4c",
   "metadata": {},
   "outputs": [],
   "source": [
    "x =df.drop(['activity'],axis=1)\n",
    "y = df['activity']"
   ]
  },
  {
   "cell_type": "markdown",
   "id": "c2072172-adde-412a-8c3e-120e8da33016",
   "metadata": {},
   "source": [
    "# Train Test Split"
   ]
  },
  {
   "cell_type": "code",
   "execution_count": 22,
   "id": "e63b9e09-512b-47a2-b2f2-de2a009bc24f",
   "metadata": {},
   "outputs": [],
   "source": [
    "from sklearn.model_selection import train_test_split\n",
    "x_train,x_test,y_train,y_test = train_test_split(x,y,train_size=0.2,random_state=0)"
   ]
  },
  {
   "cell_type": "markdown",
   "id": "076ef5ce-b1e4-4fec-867d-e0ce56c95e6d",
   "metadata": {},
   "source": [
    "# Decision Test Classifier"
   ]
  },
  {
   "cell_type": "code",
   "execution_count": 23,
   "id": "49ba7ab0-f9ba-43c5-b1bf-3c5bd1865d45",
   "metadata": {},
   "outputs": [
    {
     "data": {
      "text/plain": [
       "DecisionTreeClassifier()"
      ]
     },
     "execution_count": 23,
     "metadata": {},
     "output_type": "execute_result"
    }
   ],
   "source": [
    "from sklearn.tree import DecisionTreeClassifier\n",
    "dt=DecisionTreeClassifier()\n",
    "dt.fit(x_train,y_train)"
   ]
  },
  {
   "cell_type": "code",
   "execution_count": 25,
   "id": "62b22be9-a401-41ba-b517-8927f34176d4",
   "metadata": {},
   "outputs": [],
   "source": [
    "y_pred = dt.predict(x_test)"
   ]
  },
  {
   "cell_type": "code",
   "execution_count": 26,
   "id": "f63afe6e-8711-4ca4-b7ef-8dddd1cb5f8e",
   "metadata": {},
   "outputs": [
    {
     "name": "stdout",
     "output_type": "stream",
     "text": [
      "Training Score: 100.0\n",
      "Testing Score : 97.87924538951052\n"
     ]
    }
   ],
   "source": [
    "print('Training Score:',100*dt.score(x_train,y_train))\n",
    "print('Testing Score :',100*dt.score(x_test,y_test))"
   ]
  },
  {
   "cell_type": "code",
   "execution_count": 29,
   "id": "719dd637-dd73-4157-a318-0b550e76fdc2",
   "metadata": {},
   "outputs": [
    {
     "name": "stdout",
     "output_type": "stream",
     "text": [
      "Testing accuracy 0.9787924538951052\n"
     ]
    }
   ],
   "source": [
    "from sklearn.metrics import accuracy_score\n",
    "# accuracy_train = accuracy_score(x_train,y_train)\n",
    "# print('Training accuracy',accuracy_train)\n",
    "accuracy_test = accuracy_score(y_test, y_pred)\n",
    "print('Testing accuracy',accuracy_test)"
   ]
  },
  {
   "cell_type": "markdown",
   "id": "c18afa00-4fe1-4c73-903a-60297205cd66",
   "metadata": {},
   "source": [
    "# Random Forest"
   ]
  },
  {
   "cell_type": "code",
   "execution_count": 31,
   "id": "6e777967-1c85-4e3f-a434-d241633d76a4",
   "metadata": {},
   "outputs": [
    {
     "data": {
      "text/plain": [
       "RandomForestClassifier()"
      ]
     },
     "execution_count": 31,
     "metadata": {},
     "output_type": "execute_result"
    }
   ],
   "source": [
    "from sklearn.ensemble import RandomForestClassifier\n",
    "rt= RandomForestClassifier()\n",
    "rt.fit(x_train,y_train)"
   ]
  },
  {
   "cell_type": "code",
   "execution_count": 32,
   "id": "066ba140-9f8c-488d-b17f-03abca6b2b9c",
   "metadata": {},
   "outputs": [],
   "source": [
    "y_prdr = rt.predict(x_test)"
   ]
  },
  {
   "cell_type": "code",
   "execution_count": 33,
   "id": "54ee95ec-36de-4292-b057-f283f9eebf78",
   "metadata": {},
   "outputs": [
    {
     "name": "stdout",
     "output_type": "stream",
     "text": [
      "Training Score: 100.0\n",
      "Testing Score : 98.91069690000141\n"
     ]
    }
   ],
   "source": [
    "print('Training Score:',100*rt.score(x_train,y_train))\n",
    "print('Testing Score :',100*rt.score(x_test,y_test))"
   ]
  },
  {
   "cell_type": "code",
   "execution_count": 34,
   "id": "56bbcc91-1997-4645-9d35-6c45afe1373f",
   "metadata": {},
   "outputs": [
    {
     "name": "stdout",
     "output_type": "stream",
     "text": [
      "Testing accuracy 0.9891069690000142\n"
     ]
    }
   ],
   "source": [
    "accuracy_test = accuracy_score(y_test, y_prdr)\n",
    "print('Testing accuracy',accuracy_test)"
   ]
  },
  {
   "cell_type": "code",
   "execution_count": 35,
   "id": "c6ddf6f3-a00d-4176-9787-1d581c09e437",
   "metadata": {},
   "outputs": [
    {
     "name": "stdout",
     "output_type": "stream",
     "text": [
      "Confusion Matrix:\n",
      " [[34950   399]\n",
      " [  373 35149]]\n",
      "_________________________\n",
      "Classification Report:\n",
      "               precision    recall  f1-score   support\n",
      "\n",
      "           0       0.99      0.99      0.99     35349\n",
      "           1       0.99      0.99      0.99     35522\n",
      "\n",
      "    accuracy                           0.99     70871\n",
      "   macro avg       0.99      0.99      0.99     70871\n",
      "weighted avg       0.99      0.99      0.99     70871\n",
      "\n"
     ]
    }
   ],
   "source": [
    "from sklearn.metrics import confusion_matrix , classification_report\n",
    "print('Confusion Matrix:\\n ' + str(confusion_matrix(y_prdr,y_test)))\n",
    "print('_________________________')\n",
    "print('Classification Report:\\n ' + str(classification_report(y_prdr,y_test)))"
   ]
  },
  {
   "cell_type": "markdown",
   "id": "989aeae0-3394-4217-aa86-fcc903a6e15f",
   "metadata": {},
   "source": [
    "# SVM"
   ]
  },
  {
   "cell_type": "code",
   "execution_count": 36,
   "id": "6197caf8-944f-4b2f-835e-fe6047cf635a",
   "metadata": {},
   "outputs": [
    {
     "data": {
      "text/plain": [
       "SVC()"
      ]
     },
     "execution_count": 36,
     "metadata": {},
     "output_type": "execute_result"
    }
   ],
   "source": [
    "from sklearn.svm import SVC\n",
    "sv_model=SVC()\n",
    "sv_model.fit(x_train,y_train)"
   ]
  },
  {
   "cell_type": "code",
   "execution_count": 37,
   "id": "0be5333c-d81a-4698-bca4-87f4c9f5721f",
   "metadata": {},
   "outputs": [],
   "source": [
    "y_prds = sv_model.predict(x_test)"
   ]
  },
  {
   "cell_type": "code",
   "execution_count": 39,
   "id": "9f2d8aad-451d-4837-bea6-e5b7a383c054",
   "metadata": {},
   "outputs": [
    {
     "name": "stdout",
     "output_type": "stream",
     "text": [
      "Training Score: 98.74696619066434\n",
      "Testing Score : 98.59180765051995\n"
     ]
    }
   ],
   "source": [
    "print('Training Score:',100*sv_model.score(x_train,y_train))\n",
    "print('Testing Score :',100*sv_model.score(x_test,y_test))"
   ]
  },
  {
   "cell_type": "code",
   "execution_count": 42,
   "id": "d7c6c6a7-d15e-477e-bccb-7bb1819a3138",
   "metadata": {},
   "outputs": [
    {
     "name": "stdout",
     "output_type": "stream",
     "text": [
      "Testing accuracy 0.9859180765051996\n"
     ]
    }
   ],
   "source": [
    "# accuracy_train = accuracy_score(x_train,y_train)\n",
    "accuracy_test = accuracy_score(y_test, y_prds)\n",
    "# print('Training accuracy',accuracy_train)\n",
    "print('Testing accuracy',accuracy_test)"
   ]
  },
  {
   "cell_type": "code",
   "execution_count": 43,
   "id": "57ff997b-937f-4236-9e09-c44f5baab9be",
   "metadata": {},
   "outputs": [
    {
     "name": "stdout",
     "output_type": "stream",
     "text": [
      "Confusion Matrix:\n",
      " [[35001   676]\n",
      " [  322 34872]]\n",
      "_________________________\n",
      "Classification Report:\n",
      "               precision    recall  f1-score   support\n",
      "\n",
      "           0       0.99      0.98      0.99     35677\n",
      "           1       0.98      0.99      0.99     35194\n",
      "\n",
      "    accuracy                           0.99     70871\n",
      "   macro avg       0.99      0.99      0.99     70871\n",
      "weighted avg       0.99      0.99      0.99     70871\n",
      "\n"
     ]
    }
   ],
   "source": [
    "from sklearn.metrics import confusion_matrix , classification_report\n",
    "print('Confusion Matrix:\\n ' + str(confusion_matrix(y_prds,y_test)))\n",
    "print('_________________________')\n",
    "print('Classification Report:\\n ' + str(classification_report(y_prds,y_test)))"
   ]
  },
  {
   "cell_type": "markdown",
   "id": "eddd26d1-f53f-4a5f-96a5-f943b059b6cf",
   "metadata": {},
   "source": [
    "# KNN"
   ]
  },
  {
   "cell_type": "code",
   "execution_count": 44,
   "id": "cb10e0cf-d084-446d-b891-9110369a419d",
   "metadata": {},
   "outputs": [
    {
     "data": {
      "text/plain": [
       "KNeighborsClassifier(n_neighbors=3)"
      ]
     },
     "execution_count": 44,
     "metadata": {},
     "output_type": "execute_result"
    }
   ],
   "source": [
    "from sklearn .neighbors import KNeighborsClassifier\n",
    "knn_model=KNeighborsClassifier(n_neighbors=3)\n",
    "knn_model.fit(x_train,y_train)"
   ]
  },
  {
   "cell_type": "code",
   "execution_count": 45,
   "id": "b69aca4b-8e9c-4d7a-8c81-ea2d4607fcfb",
   "metadata": {},
   "outputs": [],
   "source": [
    "y_prdk = knn_model.predict(x_test)"
   ]
  },
  {
   "cell_type": "code",
   "execution_count": 63,
   "id": "b4089760-5c48-4edc-a6ad-177a00263424",
   "metadata": {},
   "outputs": [
    {
     "name": "stdout",
     "output_type": "stream",
     "text": [
      "Testing accuracy 0.9846058331334396\n"
     ]
    }
   ],
   "source": [
    "# accuracy_train = accuracy_score(x_train,y_train)\n",
    "accuracy_test = accuracy_score(y_test, y_prdk)\n",
    "# print('Training accuracy',accuracy_train)\n",
    "print('Testing accuracy',accuracy_test)"
   ]
  },
  {
   "cell_type": "code",
   "execution_count": 47,
   "id": "1313de6a-30d0-4c15-9568-564199d70e6f",
   "metadata": {},
   "outputs": [
    {
     "name": "stdout",
     "output_type": "stream",
     "text": [
      "Confusion Matrix:\n",
      " [[35091   859]\n",
      " [  232 34689]]\n",
      "_________________________\n",
      "Classification Report:\n",
      "               precision    recall  f1-score   support\n",
      "\n",
      "           0       0.99      0.98      0.98     35950\n",
      "           1       0.98      0.99      0.98     34921\n",
      "\n",
      "    accuracy                           0.98     70871\n",
      "   macro avg       0.98      0.98      0.98     70871\n",
      "weighted avg       0.98      0.98      0.98     70871\n",
      "\n"
     ]
    }
   ],
   "source": [
    "from sklearn.metrics import confusion_matrix , classification_report\n",
    "print('Confusion Matrix:\\n ' + str(confusion_matrix(y_prdk,y_test)))\n",
    "print('_________________________')\n",
    "print('Classification Report:\\n ' + str(classification_report(y_prdk,y_test)))"
   ]
  }
 ],
 "metadata": {
  "kernelspec": {
   "display_name": "Python 3 (ipykernel)",
   "language": "python",
   "name": "python3"
  },
  "language_info": {
   "codemirror_mode": {
    "name": "ipython",
    "version": 3
   },
   "file_extension": ".py",
   "mimetype": "text/x-python",
   "name": "python",
   "nbconvert_exporter": "python",
   "pygments_lexer": "ipython3",
   "version": "3.9.12"
  }
 },
 "nbformat": 4,
 "nbformat_minor": 5
}
